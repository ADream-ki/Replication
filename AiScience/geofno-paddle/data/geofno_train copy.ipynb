{
 "cells": [
  {
   "cell_type": "code",
   "execution_count": null,
   "metadata": {},
   "outputs": [
    {
     "ename": "",
     "evalue": "",
     "output_type": "error",
     "traceback": [
      "\u001b[1;31mRunning cells with 'pytorchAnd310 (Python 3.10.14)' requires the ipykernel package.\n",
      "\u001b[1;31mRun the following command to install 'ipykernel' into the Python environment. \n",
      "\u001b[1;31mCommand: 'conda install -n pytorchAnd310 ipykernel --update-deps --force-reinstall'"
     ]
    }
   ],
   "source": [
    "import numpy as np\n",
    "import glob\n",
    "import re\n",
    "# import matplotlib.pyplot as plt\n",
    "# from scipy.io import loadmat\n",
    "# import math\n",
    "# import h5py\n",
    "# import os.path\n",
    "\n",
    "\n",
    "import torch.nn.functional as F\n",
    "from timeit import default_timer\n",
    "from catheter import *\n",
    "from utilities3 import *\n",
    "from Adam import Adam\n",
    "\n",
    "torch.manual_seed(0)\n",
    "np.random.seed(0)\n",
    "torch.cuda.manual_seed(0)\n",
    "torch.backends.cudnn.deterministic = True\n"
   ]
  },
  {
   "cell_type": "markdown",
   "metadata": {},
   "source": [
    "# Load data"
   ]
  },
  {
   "cell_type": "code",
   "execution_count": null,
   "metadata": {},
   "outputs": [
    {
     "ename": "",
     "evalue": "",
     "output_type": "error",
     "traceback": [
      "\u001b[1;31mRunning cells with 'pytorchAnd310 (Python 3.10.14)' requires the ipykernel package.\n",
      "\u001b[1;31mRun the following command to install 'ipykernel' into the Python environment. \n",
      "\u001b[1;31mCommand: 'conda install -n pytorchAnd310 ipykernel --update-deps --force-reinstall'"
     ]
    }
   ],
   "source": [
    "PATH = \"/groups/esm/dzhuang/Catheter/allparam/length/\"\n",
    "INPUT_X = PATH+\"x_1d_structured_mesh.npy\"\n",
    "INPUT_Y = PATH+\"y_1d_structured_mesh.npy\"\n",
    "INPUT_para = PATH+\"data_info.npy\"\n",
    "OUTPUT = PATH+\"density_1d_data.npy\"\n",
    "n_data = 3000\n",
    "inputX_raw = np.load(INPUT_X)[:,0:n_data]\n",
    "inputY_raw = np.load(INPUT_Y)[:,0:n_data]\n",
    "inputPara_raw = np.load(INPUT_para)[:,0:n_data]\n",
    "output_raw = np.load(OUTPUT)[:,0:n_data]\n",
    "\n",
    "\n",
    "\n",
    "PATH = \"/groups/esm/dzhuang/Catheter/allparam/length/test/\"\n",
    "INPUT_X = PATH+\"x_1d_structured_mesh.npy\"\n",
    "INPUT_Y = PATH+\"y_1d_structured_mesh.npy\"\n",
    "INPUT_para = PATH+\"data_info.npy\"\n",
    "OUTPUT = PATH+\"density_1d_data.npy\"\n",
    "n_data = 300\n",
    "inputX_test_raw = np.load(INPUT_X)[:,0:n_data]\n",
    "inputY_test_raw = np.load(INPUT_Y)[:,0:n_data]\n",
    "inputPara_test_raw = np.load(INPUT_para)[:,0:n_data]\n",
    "output_test_raw = np.load(OUTPUT)[:,0:n_data]\n",
    "\n",
    "N_s, L_x = 2001, 500\n"
   ]
  },
  {
   "cell_type": "markdown",
   "metadata": {},
   "source": [
    "# Visualize sampled data"
   ]
  },
  {
   "cell_type": "code",
   "execution_count": null,
   "metadata": {},
   "outputs": [
    {
     "ename": "",
     "evalue": "",
     "output_type": "error",
     "traceback": [
      "\u001b[1;31mRunning cells with 'pytorchAnd310 (Python 3.10.14)' requires the ipykernel package.\n",
      "\u001b[1;31mRun the following command to install 'ipykernel' into the Python environment. \n",
      "\u001b[1;31mCommand: 'conda install -n pytorchAnd310 ipykernel --update-deps --force-reinstall'"
     ]
    }
   ],
   "source": [
    "\n",
    "# plt.figure()\n",
    "# test_id = 0\n",
    "# plt.plot(inputX_raw[:,3*test_id], inputY_raw[:,3*test_id])\n",
    "# plt.plot(inputX_raw[:,3*test_id+1], inputY_raw[:,3*test_id+1])\n",
    "# plt.plot(inputX_raw[:,3*test_id+2], inputY_raw[:,3*test_id+2])\n",
    "# sample, uf, L_p, x1, x2, x3, h = inputPara_raw[:,3*test_id]\n",
    "\n",
    "# xx = np.linspace(-L_x, 0, N_s)\n",
    "# plt.plot(xx, output_raw[:,3*test_id], label=\"uf=5\")\n",
    "# plt.plot(xx, output_raw[:,3*test_id+1], label=\"uf=10\")\n",
    "# plt.plot(xx, output_raw[:,3*test_id+2], label=\"uf=15\")\n",
    "# plt.plot(xx, (output_raw[:,3*test_id]+output_raw[:,3*test_id+1]+output_raw[:,3*test_id+2])/3, label=\"uf average\")\n",
    "# plt.legend()\n",
    "\n",
    "# plt.figure()\n",
    "# plt.scatter(inputPara_raw[4,:], inputPara_raw[5,:])\n",
    "# plt.xlabel(\"x2\")\n",
    "# plt.ylabel(\"x3\")\n",
    "\n",
    "# plt.figure()\n",
    "# plt.scatter(inputPara_raw[4,:], inputPara_raw[2,:])\n",
    "# plt.plot(np.linspace(-150,0,100), np.linspace(60,60,100))\n",
    "# plt.xlabel(\"x2\")\n",
    "# plt.ylabel(\"L_p\")\n"
   ]
  },
  {
   "cell_type": "markdown",
   "metadata": {},
   "source": [
    "# Train Geo-FNO\n",
    "\n",
    "Here we predicted the averaged bacteria distribution for three different flow rates."
   ]
  },
  {
   "cell_type": "code",
   "execution_count": null,
   "metadata": {},
   "outputs": [
    {
     "ename": "",
     "evalue": "",
     "output_type": "error",
     "traceback": [
      "\u001b[1;31mRunning cells with 'pytorchAnd310 (Python 3.10.14)' requires the ipykernel package.\n",
      "\u001b[1;31mRun the following command to install 'ipykernel' into the Python environment. \n",
      "\u001b[1;31mCommand: 'conda install -n pytorchAnd310 ipykernel --update-deps --force-reinstall'"
     ]
    }
   ],
   "source": [
    "torch.manual_seed(0)\n",
    "np.random.seed(0)\n",
    "torch.cuda.manual_seed(0)\n",
    "torch.backends.cudnn.deterministic = True\n",
    "\n",
    "\n",
    "# zero tests \n",
    "\n",
    "ntrain = 20\n",
    "ntest = 100\n",
    "\n",
    "batch_size = 20\n",
    "learning_rate = 0.001\n",
    "epochs = 1#1001\n",
    "step_size = 100\n",
    "gamma = 0.5\n",
    "\n",
    "\n",
    "modes = 64\n",
    "width = 64\n",
    "s = N_s\n",
    "\n",
    "################################################################\n",
    "# preprocess training data\n",
    "################################################################\n",
    "inputX = inputX_raw[:, 0::3]\n",
    "inputY = inputY_raw[:, 0::3]\n",
    "inputPara = inputPara_raw[:, 0::3]\n",
    "output = (output_raw[:, 0::3] + output_raw[:, 1::3] + output_raw[:, 2::3])/ 3.0\n",
    "inputX = torch.tensor(inputX, dtype=torch.float).permute(1,0)\n",
    "inputY = torch.tensor(inputY, dtype=torch.float).permute(1,0)\n",
    "input = torch.stack([inputX, inputY], dim=-1)\n",
    "output = torch.tensor(output, dtype=torch.float).permute(1,0)\n",
    "index = torch.randperm(ntrain)\n",
    "train_index = index[:ntrain]\n",
    "x_train = input[train_index]\n",
    "y_train = output[train_index]\n",
    "x_train = x_train.reshape(ntrain, s, 2)\n",
    "train_loader = torch.utils.data.DataLoader(torch.utils.data.TensorDataset(x_train, y_train), batch_size=batch_size)\n",
    "                                        #    shuffle=True)                                 \n",
    "\n",
    "\n",
    "################################################################\n",
    "# preprocess test data\n",
    "################################################################\n",
    "inputX_test = inputX_test_raw[:, 0::3]\n",
    "inputY_test = inputY_test_raw[:, 0::3]\n",
    "inputPara_test = inputPara_test_raw[:, 0::3]\n",
    "output_test = (output_test_raw[:, 0::3] + output_test_raw[:, 1::3] + output_test_raw[:, 2::3])/ 3.0\n",
    "inputX_test = torch.tensor(inputX_test, dtype=torch.float).permute(1,0)\n",
    "inputY_test = torch.tensor(inputY_test, dtype=torch.float).permute(1,0)\n",
    "input_test = torch.stack([inputX_test, inputY_test], dim=-1)\n",
    "output_test = torch.tensor(output_test, dtype=torch.float).permute(1,0)\n",
    "x_test = input_test.reshape(ntest, s, 2)\n",
    "y_test = output_test\n",
    "test_loader = torch.utils.data.DataLoader(torch.utils.data.TensorDataset(x_test, y_test), batch_size=batch_size,\n",
    "                                          shuffle=False)\n",
    "\n",
    "loss_data = np.zeros((3, epochs))\n",
    "\n",
    "if __name__ == \"__main__\":\n",
    "    ################################################################\n",
    "    # training and evaluation\n",
    "    ################################################################\n",
    "    \n",
    "    padding=100\n",
    "    input_channel=2\n",
    "    output_np=s\n",
    "\n",
    "    model = FNO1d(modes, width, padding=padding, input_channel=input_channel, output_np=output_np).cuda()\n",
    "    print(count_params(model))\n",
    "\n",
    "    optimizer = torch.optim.Adam(model.parameters(), lr=learning_rate, weight_decay=1e-4)\n",
    "    scheduler = torch.optim.lr_scheduler.StepLR(optimizer, step_size=step_size, gamma=gamma)\n",
    "\n",
    "    myloss = LpLoss(size_average=False)\n",
    "\n",
    "    for ep in range(1):\n",
    "        model.train()\n",
    "        t1 = default_timer()\n",
    "        train_l2 = 0\n",
    "        for x, y in train_loader:\n",
    "            x, y = x.cuda(), y.cuda()\n",
    "\n",
    "            optimizer.zero_grad()\n",
    "            out = torch.exp(model(x))\n",
    "\n",
    "            loss = myloss(out.view(batch_size, -1), y.view(batch_size, -1))\n",
    "            loss.backward()\n",
    "\n",
    "            optimizer.step()\n",
    "            train_l2 += loss.item()\n",
    "            break\n",
    "        break\n",
    "\n",
    "        scheduler.step()\n",
    "\n",
    "        model.eval()\n",
    "        test_l2 = 0.0\n",
    "        with torch.no_grad():\n",
    "            for x, y in test_loader:\n",
    "                x, y = x.cuda(), y.cuda()\n",
    "                out =  torch.exp(model(x))\n",
    "                test_l2 += myloss(out.view(batch_size, -1), y.view(batch_size, -1)).item()\n",
    "\n",
    "        train_l2 /= ntrain\n",
    "        test_l2 /= ntest\n",
    "\n",
    "        t2 = default_timer()\n",
    "        print(ep, t2 - t1, train_l2, test_l2)\n",
    "        \n",
    "        loss_data[:, ep] = ep, train_l2, test_l2\n",
    "        # save nn\n",
    "        if ep%step_size==0:\n",
    "            torch.save(model, 'catheter_plain_length_model_1d'+str(ep))\n"
   ]
  },
  {
   "cell_type": "code",
   "execution_count": null,
   "metadata": {},
   "outputs": [
    {
     "ename": "",
     "evalue": "",
     "output_type": "error",
     "traceback": [
      "\u001b[1;31mRunning cells with 'pytorchAnd310 (Python 3.10.14)' requires the ipykernel package.\n",
      "\u001b[1;31mRun the following command to install 'ipykernel' into the Python environment. \n",
      "\u001b[1;31mCommand: 'conda install -n pytorchAnd310 ipykernel --update-deps --force-reinstall'"
     ]
    }
   ],
   "source": [
    "# plt.figure(figsize=(4,4))\n",
    "# plt.plot(loss_data[0, :], loss_data[1, :], \"--\", label=\"Training\")\n",
    "# plt.plot(loss_data[0, :], loss_data[2, :], \"--\", label=\"Test\")\n",
    "# plt.xlabel(\"Epochs\")\n",
    "# plt.ylabel(\"Loss\")\n",
    "# plt.legend()\n",
    "# plt.tight_layout()\n",
    "# plt.savefig(\"Loss.pdf\")"
   ]
  },
  {
   "cell_type": "markdown",
   "metadata": {},
   "source": [
    "# Verify the Geo-FNO model"
   ]
  },
  {
   "cell_type": "code",
   "execution_count": null,
   "metadata": {},
   "outputs": [
    {
     "ename": "",
     "evalue": "",
     "output_type": "error",
     "traceback": [
      "\u001b[1;31mRunning cells with 'pytorchAnd310 (Python 3.10.14)' requires the ipykernel package.\n",
      "\u001b[1;31mRun the following command to install 'ipykernel' into the Python environment. \n",
      "\u001b[1;31mCommand: 'conda install -n pytorchAnd310 ipykernel --update-deps --force-reinstall'"
     ]
    }
   ],
   "source": [
    "# PATH = \"/groups/esm/dzhuang/Catheter/allparam/length/test/\"\n",
    "# INPUT_X = PATH+\"x_1d_structured_mesh.npy\"\n",
    "# INPUT_Y = PATH+\"y_1d_structured_mesh.npy\"\n",
    "# INPUT_para = PATH+\"data_info.npy\"\n",
    "# OUTPUT = PATH+\"density_1d_data.npy\"\n",
    "\n",
    "# n_data = 300\n",
    "# inputX_raw = np.load(INPUT_X)[:,0:n_data]\n",
    "# inputY_raw = np.load(INPUT_Y)[:,0:n_data]\n",
    "# inputPara_raw = np.load(INPUT_para)[:,0:n_data]\n",
    "# output_raw = np.load(OUTPUT)[:,0:n_data]\n",
    "# inputPara_raw = np.load(INPUT_para)[:,0:n_data]\n",
    "\n",
    "# N_s, L_x = 2001, 500\n",
    "\n",
    "\n",
    "# # PATH = \"/groups/esm/dzhuang/Catheter/allparam/period/\"\n",
    "# # INPUT_INFO = PATH+\"data_info.npy\"\n",
    "# # dataInfo = np.load(INPUT_INFO)\n",
    "\n",
    "\n",
    "# device = torch.device('cuda') if torch.cuda.is_available() else torch.device('cpu')\n",
    "# model = torch.load(\"catheter_plain_length_model_1d1000\", map_location=device)\n",
    "\n",
    "\n",
    "# ntest = 100\n",
    "\n",
    "\n",
    "# modes = 64\n",
    "# width = 64\n",
    "# # nx ny\n",
    "# s = N_s\n",
    "\n",
    "# ################################################################\n",
    "# # load data and data normalization\n",
    "# ################################################################\n",
    "# inputX = inputX_raw[:, 0::3]\n",
    "# inputY = inputY_raw[:, 0::3]\n",
    "# inputPara = inputPara_raw[:, 0::3]\n",
    "# output = (output_raw[:, 0::3] + output_raw[:, 1::3] + output_raw[:, 2::3])/ 3.0\n",
    "\n",
    "\n",
    "\n",
    "\n",
    "# inputX = torch.tensor(inputX, dtype=torch.float).permute(1,0)\n",
    "# inputY = torch.tensor(inputY, dtype=torch.float).permute(1,0)\n",
    "# input = torch.stack([inputX, inputY], dim=-1)\n",
    "# output = torch.tensor(output, dtype=torch.float).permute(1,0)\n",
    "\n",
    "# x_test = input.reshape(ntest, s, 2) \n",
    "# y_test = output \n",
    "\n",
    "\n",
    "# for sample_id in [0,8]:\n",
    "#     sample, uf, L_p, x1, x2, x3, h = inputPara[:, sample_id]\n",
    "#     mesh = x_test[sample_id, :, :]\n",
    "    \n",
    "#     y_test_pred = torch.exp(model(x_test[sample_id:sample_id+1,:,:].to(device))).detach().cpu().numpy().flatten()\n",
    "#     print(\"rel. error is \", np.linalg.norm(y_test_pred - y_test[sample_id, :].numpy())/np.linalg.norm(y_test[sample_id, :]))\n",
    "#     xx = np.linspace(-L_x, 0 ,N_s)\n",
    "#     plt.figure(figsize=(5,4))\n",
    "    \n",
    "    \n",
    "    \n",
    "#     plt.plot(mesh[:, 0], mesh[:, 1], color=\"C1\", label=\"Channel geometry\")\n",
    "#     plt.plot(mesh[:, 0], 100-mesh[:, 1], color=\"C1\")\n",
    "    \n",
    "#     plt.plot(xx, y_test[sample_id, :], \"--o\", color=\"red\", markevery=len(xx)//10, label=\"Reference\")\n",
    "#     plt.plot(xx, y_test_pred, \"--*\", color=\"C2\", fillstyle='none', markevery=len(xx)//10, label=\"Predicted bacteria distribution\")\n",
    "\n",
    "#     plt.xlabel(r\"x\")\n",
    "    \n",
    "#     plt.legend()\n",
    "#     plt.tight_layout()\n",
    "#     plt.savefig(\"Validation.\"+str(sample_id)+\".pdf\")\n",
    "    "
   ]
  },
  {
   "cell_type": "code",
   "execution_count": null,
   "metadata": {},
   "outputs": [
    {
     "ename": "",
     "evalue": "",
     "output_type": "error",
     "traceback": [
      "\u001b[1;31mRunning cells with 'pytorchAnd310 (Python 3.10.14)' requires the ipykernel package.\n",
      "\u001b[1;31mRun the following command to install 'ipykernel' into the Python environment. \n",
      "\u001b[1;31mCommand: 'conda install -n pytorchAnd310 ipykernel --update-deps --force-reinstall'"
     ]
    }
   ],
   "source": []
  }
 ],
 "metadata": {
  "kernelspec": {
   "display_name": "pytorchAnd310",
   "language": "python",
   "name": "python3"
  },
  "language_info": {
   "codemirror_mode": {
    "name": "ipython",
    "version": 3
   },
   "file_extension": ".py",
   "mimetype": "text/x-python",
   "name": "python",
   "nbconvert_exporter": "python",
   "pygments_lexer": "ipython3",
   "version": "3.10.14"
  }
 },
 "nbformat": 4,
 "nbformat_minor": 4
}
