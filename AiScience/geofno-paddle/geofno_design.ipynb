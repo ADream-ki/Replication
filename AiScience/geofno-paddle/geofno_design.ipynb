{
 "cells": [
  {
   "cell_type": "code",
   "execution_count": null,
   "metadata": {},
   "outputs": [],
   "source": [
    "import numpy as np\n",
    "from matplotlib import pyplot as plt\n",
    "from timeit import default_timer\n",
    "\n",
    "import paddle\n",
    "from paddle.io import DataLoader, TensorDataset\n",
    "\n",
    "paddle.seed(0)\n",
    "np.random.seed(0)\n",
    "paddle.set_device('gpu')"
   ]
  },
  {
   "cell_type": "markdown",
   "metadata": {},
   "source": [
    "# Real-time design optimization \n",
    "\n",
    "During optimization, we start from initial design parameters\n",
    "$(L_p = 100, x2 = -40, x3 = -30, h = 25.0) \\mu m$, and update them using the BFGS algorithm to minimize the objective function ⟨Xup⟩ post-processed from the bacteria population predicted by Geo-FNO. When the optimization gets trapped in a local minimizer, the optimization restarts from an initial condition obtained by perturbing the recordedglobal minimizer with a random Gaussian noise sampled from $N(0, I)$. The proposed randomized BFGS algorithm guarantees the recorded-global minimizer monotonically decreases. "
   ]
  },
  {
   "cell_type": "code",
   "execution_count": null,
   "metadata": {},
   "outputs": [],
   "source": []
  }
 ],
 "metadata": {
  "kernelspec": {
   "display_name": "paddleAnd310",
   "language": "python",
   "name": "python3"
  },
  "language_info": {
   "name": "python",
   "version": "3.10.14"
  }
 },
 "nbformat": 4,
 "nbformat_minor": 2
}
